{
  "nbformat": 4,
  "nbformat_minor": 0,
  "metadata": {
    "colab": {
      "provenance": [],
      "authorship_tag": "ABX9TyMj7R67Bc56Aj+G9Oz3k0Xx",
      "include_colab_link": true
    },
    "kernelspec": {
      "name": "python3",
      "display_name": "Python 3"
    },
    "language_info": {
      "name": "python"
    }
  },
  "cells": [
    {
      "cell_type": "markdown",
      "metadata": {
        "id": "view-in-github",
        "colab_type": "text"
      },
      "source": [
        "<a href=\"https://colab.research.google.com/github/yashx07/HuggingFaceRagAgent/blob/main/HuggingRag2.ipynb\" target=\"_parent\"><img src=\"https://colab.research.google.com/assets/colab-badge.svg\" alt=\"Open In Colab\"/></a>"
      ]
    },
    {
      "cell_type": "code",
      "execution_count": null,
      "metadata": {
        "collapsed": true,
        "id": "qEEF-M8UrXAW"
      },
      "outputs": [],
      "source": [
        "!pip install tiktoken\n",
        "!pip install langchain openai\n",
        "\n",
        "!pip install langchain-community\n",
        "!pip install unstructured\n",
        "!pip install pdfminer.six\n",
        "!pip install langchain\n",
        "!pip install openai\n",
        "\n"
      ]
    },
    {
      "cell_type": "code",
      "source": [
        "pip install langchain-community\n",
        "pip install chromadb\n"
      ],
      "metadata": {
        "collapsed": true,
        "id": "NYFiPLogsBiS"
      },
      "execution_count": null,
      "outputs": []
    },
    {
      "cell_type": "code",
      "source": [
        "import tiktoken\n",
        "print(tiktoken.__version__)\n"
      ],
      "metadata": {
        "id": "7TRetbTUsBki"
      },
      "execution_count": null,
      "outputs": []
    },
    {
      "cell_type": "code",
      "source": [
        "pip install unstructured[local-inference]\n"
      ],
      "metadata": {
        "collapsed": true,
        "id": "kee-oF9jsBnB"
      },
      "execution_count": null,
      "outputs": []
    },
    {
      "cell_type": "code",
      "source": [
        "from langchain.embeddings import HuggingFaceEmbeddings\n"
      ],
      "metadata": {
        "id": "EtbMgZk4sBpp"
      },
      "execution_count": 47,
      "outputs": []
    },
    {
      "cell_type": "code",
      "source": [
        "from langchain_community.document_loaders import OnlinePDFLoader\n"
      ],
      "metadata": {
        "id": "JJbgkJQisBsU"
      },
      "execution_count": 48,
      "outputs": []
    },
    {
      "cell_type": "code",
      "source": [
        "from langchain.text_splitter import RecursiveCharacterTextSplitter\n"
      ],
      "metadata": {
        "id": "5AL3kdPusBu8"
      },
      "execution_count": 49,
      "outputs": []
    },
    {
      "cell_type": "code",
      "source": [],
      "metadata": {
        "id": "8A4rUum6sBxe"
      },
      "execution_count": null,
      "outputs": []
    },
    {
      "cell_type": "code",
      "source": [
        "from google.colab import userdata\n",
        "userdata.get('HUGGINGFACEHUB_API_TOKEN')\n",
        "userdata.get('LANGCHAIN_API_KEY')\n"
      ],
      "metadata": {
        "id": "kiAXU3DKsB0x"
      },
      "execution_count": null,
      "outputs": []
    },
    {
      "cell_type": "code",
      "source": [
        "import os\n",
        "import numpy as np\n",
        "import tiktoken\n",
        "from langchain_community.document_loaders import OnlinePDFLoader\n",
        "from langchain.text_splitter import RecursiveCharacterTextSplitter\n",
        "from langchain_community.embeddings import HuggingFaceInferenceAPIEmbeddings\n",
        "from langchain_community.llms import HuggingFaceHub\n",
        "from langchain_community.vectorstores import Chroma\n",
        "from langchain.prompts import ChatPromptTemplate\n",
        "from langchain_core.output_parsers import StrOutputParser\n",
        "from langchain_core.runnables import RunnablePassthrough\n",
        "\n",
        "# Set environment variables\n",
        "os.environ['HUGGINGFACEHUB_API_TOKEN'] = \"\"\n",
        "os.environ['LANGCHAIN_TRACING_V2'] = 'true'\n",
        "os.environ['LANGCHAIN_ENDPOINT'] = 'https://api.smith.langchain.com'\n",
        "os.environ['LANGCHAIN_API_KEY'] = \"\"\n"
      ],
      "metadata": {
        "id": "bDB8sg9urkYT"
      },
      "execution_count": 65,
      "outputs": []
    },
    {
      "cell_type": "code",
      "source": [],
      "metadata": {
        "id": "RBFHslZnzE-X"
      },
      "execution_count": 65,
      "outputs": []
    },
    {
      "cell_type": "code",
      "source": [
        "# Load the document\n",
        "# pdf_url = \"https://www.cet.edu.in/noticefiles/271_AI%20Lect%20Notes.pdf\"\n",
        "loader = OnlinePDFLoader(pdf_url)\n",
        "documents = loader.load()\n",
        "\n",
        "# Text splitting\n",
        "text_splitter = RecursiveCharacterTextSplitter.from_tiktoken_encoder(\n",
        "    chunk_size=512, chunk_overlap=128, encoding_name=\"cl100k_base\"\n",
        ")\n",
        "splits = text_splitter.split_documents(documents)\n"
      ],
      "metadata": {
        "id": "fGz8Fxk2rkcV"
      },
      "execution_count": 66,
      "outputs": []
    },
    {
      "cell_type": "code",
      "source": [
        "def count_tokens(text: str) -> int:\n",
        "    encoding = tiktoken.get_encoding(\"cl100k_base\")\n",
        "    return len(encoding.encode(text))\n",
        "def truncate_context(context: str, max_length: int = 1024) -> str:\n",
        "    \"\"\"Truncates context to fit within a maximum length.\"\"\"\n",
        "    return context[:max_length]\n",
        "\n"
      ],
      "metadata": {
        "id": "5tatnQUirkfl"
      },
      "execution_count": 67,
      "outputs": []
    },
    {
      "cell_type": "code",
      "source": [
        "embeddings = HuggingFaceInferenceAPIEmbeddings(\n",
        "    model_name=\"sentence-transformers/all-MiniLM-L6-v2\",\n",
        "    api_key=\"HUGGINGFACEHUB_API_TOKEN\"\n",
        ")\n"
      ],
      "metadata": {
        "id": "aHEfhVgorkid"
      },
      "execution_count": 68,
      "outputs": []
    },
    {
      "cell_type": "code",
      "source": [
        "def cosine_similarity(vec1, vec2):\n",
        "    return np.dot(vec1, vec2) / (np.linalg.norm(vec1) * np.linalg.norm(vec2))\n"
      ],
      "metadata": {
        "id": "SNxiqiItrklW"
      },
      "execution_count": 69,
      "outputs": []
    },
    {
      "cell_type": "code",
      "source": [
        "pip install -U langchain-huggingface\n"
      ],
      "metadata": {
        "collapsed": true,
        "id": "qOB8vX58uJPg"
      },
      "execution_count": null,
      "outputs": []
    },
    {
      "cell_type": "code",
      "source": [],
      "metadata": {
        "id": "ioDo_0PAuN7l"
      },
      "execution_count": 70,
      "outputs": []
    },
    {
      "cell_type": "code",
      "source": [
        "\n",
        "# Correct LLM Setup\n",
        "from langchain_huggingface import HuggingFacePipeline  # Updated import\n",
        "from transformers import AutoModelForSeq2SeqLM, AutoTokenizer, pipeline\n",
        "\n",
        "\n",
        "model_id = \"google/flan-t5-base\"\n",
        "tokenizer = AutoTokenizer.from_pretrained(model_id)\n",
        "model = AutoModelForSeq2SeqLM.from_pretrained(model_id)\n",
        "\n",
        "text2text_pipe = pipeline(\n",
        "    \"text2text-generation\",\n",
        "    model=model,\n",
        "    tokenizer=tokenizer,\n",
        "    max_length=512,\n",
        "    do_sample=True\n",
        ")\n",
        "\n",
        "llm = HuggingFacePipeline(pipeline=text2text_pipe)\n"
      ],
      "metadata": {
        "id": "lslRxB4rrkoH"
      },
      "execution_count": null,
      "outputs": []
    },
    {
      "cell_type": "code",
      "source": [
        "prompt_template = \"\"\"Answer the question based only on the following context:\n",
        "\n",
        "{context}\n",
        "\n",
        "Question: {question}\n",
        "\n",
        "Answer in clear, concise English. If unsure, say \"I don't know\".\"\"\"\n"
      ],
      "metadata": {
        "id": "-vrVB-9ErkrH"
      },
      "execution_count": 72,
      "outputs": []
    },
    {
      "cell_type": "code",
      "source": [],
      "metadata": {
        "collapsed": true,
        "id": "yykSNqyjucwq"
      },
      "execution_count": null,
      "outputs": []
    },
    {
      "cell_type": "code",
      "source": [
        "\n",
        "\n",
        "vectorstore = Chroma.from_documents(\n",
        "    documents=splits,\n",
        "    embedding=embeddings,\n",
        "    collection_name=\"pdf-qa\"\n",
        ")\n",
        "\n",
        "retriever = vectorstore.as_retriever(search_kwargs={\"k\": 2})\n"
      ],
      "metadata": {
        "id": "BOaB6hYRr1DH"
      },
      "execution_count": 74,
      "outputs": []
    },
    {
      "cell_type": "code",
      "source": [
        "prompt = ChatPromptTemplate.from_template(prompt_template)\n",
        "rag_chain = (\n",
        "    {\"context\": retriever | (lambda docs: truncate_context(\"\\n\\n\".join(d.page_content for d in docs))),\n",
        "     \"question\": RunnablePassthrough()}\n",
        "    | prompt\n",
        "    | llm\n",
        "    | StrOutputParser()\n",
        ")\n"
      ],
      "metadata": {
        "id": "uFvzLG1Xr1FT"
      },
      "execution_count": 75,
      "outputs": []
    },
    {
      "cell_type": "code",
      "source": [
        "def ask_with_details(query: str):\n",
        "    try:\n",
        "        context_docs = retriever.invoke(query)\n",
        "\n",
        "\n",
        "        print(f\"\\n{'='*50}\\nQuery: {query}\")\n",
        "        print(f\"Retrieved {len(context_docs)} documents:\")\n",
        "\n",
        "        for i, doc in enumerate(context_docs):\n",
        "            similarity = cosine_similarity(\n",
        "                embeddings.embed_query(query),\n",
        "                embeddings.embed_query(doc.page_content)\n",
        "            )\n",
        "\n",
        "        answer = rag_chain.invoke(query)\n",
        "        print(f\"\\nAnswer: {answer}\\n{'='*50}\\n\")\n",
        "\n",
        "    except Exception as e:\n",
        "        print(f\"Error processing query: {str(e)}\")\n"
      ],
      "metadata": {
        "id": "lRqP5S_gr1IS"
      },
      "execution_count": 76,
      "outputs": []
    },
    {
      "cell_type": "code",
      "source": [
        "ask_with_details(\"What is Artificial Intelligence?\")\n"
      ],
      "metadata": {
        "colab": {
          "base_uri": "https://localhost:8080/"
        },
        "id": "Dj5J4wkar1Lx",
        "outputId": "ba6478af-8ead-4dbc-a719-de817ee9210c"
      },
      "execution_count": 81,
      "outputs": [
        {
          "output_type": "stream",
          "name": "stdout",
          "text": [
            "\n",
            "==================================================\n",
            "Query: What is Artificial Intelligence?\n",
            "Retrieved 2 documents:\n",
            "\n",
            "Answer: Science and engineering of making intelligent machines\n",
            "==================================================\n",
            "\n"
          ]
        }
      ]
    },
    {
      "cell_type": "code",
      "source": [],
      "metadata": {
        "id": "RS4Oh1Ekrkt1"
      },
      "execution_count": null,
      "outputs": []
    },
    {
      "cell_type": "code",
      "source": [],
      "metadata": {
        "id": "_mPwuDLGrkw2"
      },
      "execution_count": 77,
      "outputs": []
    },
    {
      "cell_type": "code",
      "source": [],
      "metadata": {
        "id": "l3qlRDzHrk1C"
      },
      "execution_count": 77,
      "outputs": []
    }
  ]
}